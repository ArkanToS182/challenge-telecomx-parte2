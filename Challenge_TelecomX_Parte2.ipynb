{
 "cells": [
  {
   "cell_type": "markdown",
   "id": "70a3084a",
   "metadata": {},
   "source": [
    "# 📘 Challenge TelecomX - Parte 2\n",
    "## Modelos Preditivos para Churn\n",
    "\n",
    "Este notebook dá continuidade ao projeto Challenge TelecomX (Parte 1), agora com foco na **modelagem preditiva da evasão de clientes (churn)**.\n",
    "\n",
    "Seguiremos as etapas de pré-processamento, modelagem, avaliação e interpretação."
   ]
  },
  {
   "cell_type": "markdown",
   "id": "f0fbb2c6",
   "metadata": {},
   "source": [
    "## 🔧 Importação de Bibliotecas"
   ]
  },
  {
   "cell_type": "code",
   "execution_count": null,
   "id": "db3af044",
   "metadata": {},
   "outputs": [],
   "source": [
    "import pandas as pd\n",
    "import numpy as np\n",
    "import matplotlib.pyplot as plt\n",
    "import seaborn as sns\n",
    "\n",
    "from sklearn.model_selection import train_test_split\n",
    "from sklearn.preprocessing import StandardScaler\n",
    "from sklearn.metrics import classification_report, confusion_matrix, accuracy_score, precision_score, recall_score, f1_score\n",
    "from sklearn.linear_model import LogisticRegression\n",
    "from sklearn.ensemble import RandomForestClassifier\n",
    "from sklearn.neighbors import KNeighborsClassifier\n",
    "from sklearn.svm import LinearSVC\n",
    "from sklearn.inspection import permutation_importance\n",
    "from imblearn.over_sampling import SMOTE\n",
    "from sklearn.metrics import ConfusionMatrixDisplay"
   ]
  },
  {
   "cell_type": "markdown",
   "id": "fb6af67e",
   "metadata": {},
   "source": [
    "## 📥 Importação dos Dados Tratados"
   ]
  },
  {
   "cell_type": "code",
   "execution_count": null,
   "id": "3dd1cbe0",
   "metadata": {},
   "outputs": [],
   "source": [
    "df = pd.read_csv('dados_tratados.csv')\n",
    "print(df.shape)\n",
    "df.head()"
   ]
  },
  {
   "cell_type": "markdown",
   "id": "68c3af55",
   "metadata": {},
   "source": [
    "## 🧹 Remoção de Colunas Irrelevantes"
   ]
  },
  {
   "cell_type": "code",
   "execution_count": null,
   "id": "8c8986e2",
   "metadata": {},
   "outputs": [],
   "source": [
    "if 'customerid' in df.columns:\n",
    "    df.drop(columns=['customerid'], inplace=True)\n",
    "    print(\"Coluna 'customerid' removida com sucesso!\")\n",
    "else:\n",
    "    print(\"Nenhuma coluna 'customerid' encontrada.\")\n",
    "\n",
    "cols_variancia_zero = [col for col in df.columns if df[col].nunique() == 1]\n",
    "if cols_variancia_zero:\n",
    "    df.drop(columns=cols_variancia_zero, inplace=True)\n",
    "    print(f\"Colunas removidas por variância zero: {cols_variancia_zero}\")\n",
    "else:\n",
    "    print(\"Nenhuma coluna com variância zero encontrada.\")"
   ]
  },
  {
   "cell_type": "markdown",
   "id": "9cf6e9fb",
   "metadata": {},
   "source": [
    "## 🔡 Encoding de Variáveis Categóricas"
   ]
  },
  {
   "cell_type": "code",
   "execution_count": null,
   "id": "521d7155",
   "metadata": {},
   "outputs": [],
   "source": [
    "cat_cols = df.select_dtypes(include=['object']).columns.tolist()\n",
    "print(\"Variáveis categóricas encontradas:\", cat_cols)\n",
    "\n",
    "if cat_cols:\n",
    "    df = pd.get_dummies(df, columns=cat_cols, drop_first=True)\n",
    "    print(\"One-Hot Encoding aplicado com sucesso!\")\n",
    "else:\n",
    "    print(\"Não foram encontradas variáveis categóricas para codificação.\")"
   ]
  },
  {
   "cell_type": "markdown",
   "id": "3ac0eaf7",
   "metadata": {},
   "source": [
    "## 📊 Verificação da Proporção de Evasão"
   ]
  },
  {
   "cell_type": "code",
   "execution_count": null,
   "id": "128c1c38",
   "metadata": {},
   "outputs": [],
   "source": [
    "churn_counts = df['churn'].value_counts()\n",
    "churn_percent = df['churn'].value_counts(normalize=True) * 100\n",
    "\n",
    "print(\"Contagem de clientes por churn:\")\n",
    "print(churn_counts)\n",
    "print(\"\\nProporção (%):\")\n",
    "print(churn_percent.round(2))\n",
    "\n",
    "plt.figure(figsize=(6,4))\n",
    "churn_percent.plot(kind='bar', color=['skyblue','salmon'])\n",
    "plt.title(\"Proporção de Clientes por Status de Evasão\")\n",
    "plt.xticks([0,1], labels=[\"Permaneceu (0)\", \"Evadido (1)\"], rotation=0)\n",
    "plt.ylabel(\"Percentual (%)\")\n",
    "plt.show()"
   ]
  },
  {
   "cell_type": "markdown",
   "id": "6ef67d3c",
   "metadata": {},
   "source": [
    "## ⚖️ Balanceamento de Classes"
   ]
  },
  {
   "cell_type": "code",
   "execution_count": null,
   "id": "5f27d640",
   "metadata": {},
   "outputs": [],
   "source": [
    "X = df.drop(columns=['churn'])\n",
    "y = df['churn']\n",
    "\n",
    "print(\"Distribuição original:\")\n",
    "print(y.value_counts())\n",
    "\n",
    "smote = SMOTE(random_state=42)\n",
    "X_resampled, y_resampled = smote.fit_resample(X, y)\n",
    "\n",
    "print(\"\\nDistribuição após SMOTE:\")\n",
    "print(y_resampled.value_counts())"
   ]
  },
  {
   "cell_type": "markdown",
   "id": "dff4ab8c",
   "metadata": {},
   "source": [
    "## 📐 Normalização / Padronização"
   ]
  },
  {
   "cell_type": "code",
   "execution_count": null,
   "id": "745ce134",
   "metadata": {},
   "outputs": [],
   "source": [
    "X_train, X_test, y_train, y_test = train_test_split(X, y, test_size=0.3, random_state=42, stratify=y)\n",
    "X_res_train, X_res_test, y_res_train, y_res_test = train_test_split(X_resampled, y_resampled, test_size=0.3, random_state=42, stratify=y_resampled)\n",
    "\n",
    "scaler = StandardScaler()\n",
    "X_train_scaled = scaler.fit_transform(X_train)\n",
    "X_test_scaled = scaler.transform(X_test)\n",
    "X_res_train_scaled = scaler.fit_transform(X_res_train)\n",
    "X_res_test_scaled = scaler.transform(X_res_test)\n",
    "\n",
    "print(\"Pré-processamento concluído.\")"
   ]
  },
  {
   "cell_type": "markdown",
   "id": "c1f3e187",
   "metadata": {},
   "source": [
    "## 🔗 Análise de Correlação"
   ]
  },
  {
   "cell_type": "code",
   "execution_count": null,
   "id": "29397418",
   "metadata": {},
   "outputs": [],
   "source": [
    "corr_matrix = df.corr()\n",
    "plt.figure(figsize=(14,10))\n",
    "sns.heatmap(corr_matrix, annot=False, cmap='coolwarm', center=0)\n",
    "plt.title(\"Matriz de Correlação - Variáveis Numéricas\")\n",
    "plt.show()\n",
    "\n",
    "corr_target = corr_matrix['churn'].sort_values(ascending=False)\n",
    "print(\"Correlação das variáveis com churn:\")\n",
    "print(corr_target)\n",
    "\n",
    "top_corr = corr_target.abs().sort_values(ascending=False).head(11)\n",
    "plt.figure(figsize=(8,6))\n",
    "sns.barplot(x=top_corr.index, y=top_corr.values)\n",
    "plt.title(\"Top 10 variáveis mais correlacionadas com churn\")\n",
    "plt.xticks(rotation=45)\n",
    "plt.ylabel(\"Correlação (|valor|)\")\n",
    "plt.show()"
   ]
  },
  {
   "cell_type": "markdown",
   "id": "5a5ae1ca",
   "metadata": {},
   "source": [
    "## 🎯 Análises Direcionadas"
   ]
  },
  {
   "cell_type": "code",
   "execution_count": null,
   "id": "a00050fc",
   "metadata": {},
   "outputs": [],
   "source": [
    "sns.boxplot(x='churn', y='tenure', data=df, palette='Set2')\n",
    "plt.title(\"Tempo de Contrato vs Evasão\")\n",
    "plt.show()\n",
    "\n",
    "sns.boxplot(x='churn', y='charges.total', data=df, palette='Set1')\n",
    "plt.title(\"Total Gasto vs Evasão\")\n",
    "plt.show()\n",
    "\n",
    "sns.scatterplot(x='tenure', y='charges.total', hue='churn', data=df, alpha=0.6, palette={0:'skyblue', 1:'salmon'})\n",
    "plt.title(\"Tempo de Contrato vs Total Gasto (colorido por Evasão)\")\n",
    "plt.show()"
   ]
  },
  {
   "cell_type": "markdown",
   "id": "9b10ed40",
   "metadata": {},
   "source": [
    "## 🤖 Criação de Modelos"
   ]
  },
  {
   "cell_type": "code",
   "execution_count": null,
   "id": "2d63c1d5",
   "metadata": {},
   "outputs": [],
   "source": [
    "log_reg = LogisticRegression(class_weight='balanced', random_state=42, max_iter=1000)\n",
    "log_reg.fit(X_train_scaled, y_train)\n",
    "\n",
    "rf = RandomForestClassifier(class_weight='balanced', random_state=42, n_estimators=200)\n",
    "rf.fit(X_train, y_train)\n",
    "\n",
    "print(\"Modelos treinados com sucesso!\")"
   ]
  },
  {
   "cell_type": "markdown",
   "id": "717aca94",
   "metadata": {},
   "source": [
    "## 📊 Avaliação dos Modelos"
   ]
  },
  {
   "cell_type": "code",
   "execution_count": null,
   "id": "812e8081",
   "metadata": {},
   "outputs": [],
   "source": [
    "def avaliar_modelo(nome, modelo, X_train, X_test, y_train, y_test):\n",
    "    print(f\"\\n=== Avaliação do Modelo: {nome} ===\")\n",
    "    y_pred_train = modelo.predict(X_train)\n",
    "    y_pred_test = modelo.predict(X_test)\n",
    "    acc_train = accuracy_score(y_train, y_pred_train)\n",
    "    acc_test = accuracy_score(y_test, y_pred_test)\n",
    "    print(f\"Acurácia Treino: {acc_train:.4f}\")\n",
    "    print(f\"Acurácia Teste: {acc_test:.4f}\")\n",
    "    print(\"\\nRelatório de Classificação (Teste):\")\n",
    "    print(classification_report(y_test, y_pred_test))\n",
    "    cm = confusion_matrix(y_test, y_pred_test)\n",
    "    disp = ConfusionMatrixDisplay(confusion_matrix=cm, display_labels=modelo.classes_)\n",
    "    disp.plot(cmap=\"Blues\")\n",
    "    plt.title(f\"Matriz de Confusão - {nome}\")\n",
    "    plt.show()\n",
    "    return acc_train, acc_test\n",
    "\n",
    "acc_lr_train, acc_lr_test = avaliar_modelo(\"Regressão Logística\", log_reg, X_train_scaled, X_test_scaled, y_train, y_test)\n",
    "acc_rf_train, acc_rf_test = avaliar_modelo(\"Random Forest\", rf, X_train, X_test, y_train, y_test)"
   ]
  },
  {
   "cell_type": "markdown",
   "id": "d2966310",
   "metadata": {},
   "source": [
    "## 📋 Comparação de Métricas entre Modelos"
   ]
  },
  {
   "cell_type": "code",
   "execution_count": null,
   "id": "8f789121",
   "metadata": {},
   "outputs": [],
   "source": [
    "metricas = []\n",
    "def obter_metricas(nome, modelo, X_test, y_test):\n",
    "    y_pred = modelo.predict(X_test)\n",
    "    return {\"Modelo\": nome, \"Acurácia\": accuracy_score(y_test, y_pred), \"Precisão\": precision_score(y_test, y_pred), \"Recall\": recall_score(y_test, y_pred), \"F1-score\": f1_score(y_test, y_pred)}\n",
    "\n",
    "metricas.append(obter_metricas(\"Regressão Logística\", log_reg, X_test_scaled, y_test))\n",
    "metricas.append(obter_metricas(\"Random Forest\", rf, X_test, y_test))\n",
    "df_metricas = pd.DataFrame(metricas)\n",
    "display(df_metricas)\n",
    "\n",
    "df_plot = df_metricas.set_index(\"Modelo\").T\n",
    "df_plot.plot(kind=\"bar\", figsize=(10,6))\n",
    "plt.title(\"Comparação de Métricas entre Modelos\")\n",
    "plt.ylabel(\"Valor\")\n",
    "plt.ylim(0,1)\n",
    "plt.xticks(rotation=0)\n",
    "plt.show()"
   ]
  },
  {
   "cell_type": "markdown",
   "id": "5ddc45e1",
   "metadata": {},
   "source": [
    "## 🌟 Importância das Variáveis"
   ]
  },
  {
   "cell_type": "code",
   "execution_count": null,
   "id": "d25375e1",
   "metadata": {},
   "outputs": [],
   "source": [
    "importances = rf.feature_importances_\n",
    "features = X.columns\n",
    "feat_importances = pd.DataFrame({\"Variável\": features, \"Importância\": importances}).sort_values(by=\"Importância\", ascending=False)\n",
    "display(feat_importances.head(10))\n",
    "\n",
    "sns.barplot(x=\"Importância\", y=\"Variável\", data=feat_importances.head(10), palette=\"viridis\")\n",
    "plt.title(\"Top 10 Variáveis mais Importantes - Random Forest\")\n",
    "plt.show()"
   ]
  },
  {
   "cell_type": "markdown",
   "id": "67e6dd93",
   "metadata": {},
   "source": [
    "# ✅ Conclusões Gerais e Recomendações\n",
    "\n",
    "- Clientes com **contratos curtos** e **menor gasto total** apresentaram maior propensão à evasão.\n",
    "- **Contratos mensais** e **pagamentos via cheque eletrônico** foram identificados como fatores de risco.\n",
    "- **Random Forest** obteve melhor desempenho geral, mas com leve indício de overfitting.\n",
    "- **Regressão Logística** apresentou resultados mais equilibrados e interpretáveis.\n",
    "\n",
    "## 💡 Recomendações de Negócio\n",
    "1. Focar em clientes novos com ações de retenção.\n",
    "2. Incentivar contratos de longo prazo.\n",
    "3. Criar ofertas especiais para clientes de baixo gasto.\n",
    "4. Estimular métodos de pagamento automáticos.\n",
    "5. Implementar monitoramento contínuo de churn.\n"
   ]
  }
 ],
 "metadata": {},
 "nbformat": 4,
 "nbformat_minor": 5
}
